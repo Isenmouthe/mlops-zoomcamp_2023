{
 "cells": [
  {
   "attachments": {},
   "cell_type": "markdown",
   "metadata": {},
   "source": [
    "The goal of this homework is to train a simple model for predicting the duration of a ride - similar to what we did in this module"
   ]
  },
  {
   "attachments": {},
   "cell_type": "markdown",
   "metadata": {},
   "source": [
    "## Q1. Downloading the data\n",
    "\n",
    "We'll use the same NYC taxi dataset, but instead of \"Green Taxi Trip Records\", we'll use \"For-Hire Vehicle Trip Records\".\n",
    "\n",
    "Download the data for January and February 2021.\n",
    "\n",
    "Note that you need \"For-Hire Vehicle Trip Records\", not \"High Volume For-Hire Vehicle Trip Records\".\n",
    "\n",
    "Read the data for January. How many records are there?\n",
    "\n",
    "    1054112\n",
    "    1154112\n",
    "    1254112\n",
    "    1354112\n"
   ]
  },
  {
   "cell_type": "code",
   "execution_count": 2,
   "metadata": {},
   "outputs": [],
   "source": [
    "#!wget -P ./data https://d37ci6vzurychx.cloudfront.net/trip-data/fhv_tripdata_2021-01.parquet\n",
    "#!wget -P ./data https://d37ci6vzurychx.cloudfront.net/trip-data/fhv_tripdata_2021-02.parquet"
   ]
  },
  {
   "cell_type": "code",
   "execution_count": 3,
   "metadata": {},
   "outputs": [],
   "source": [
    "# temp cell of installing neccesary moduls\n",
    "#!pip install matplotlib"
   ]
  },
  {
   "cell_type": "code",
   "execution_count": 4,
   "metadata": {},
   "outputs": [],
   "source": [
    "import pandas as pd\n",
    "import matplotlib.pyplot as plt"
   ]
  },
  {
   "cell_type": "code",
   "execution_count": 5,
   "metadata": {},
   "outputs": [],
   "source": [
    "data_01 = pd.read_parquet(\"./data/fhv_tripdata_2021-01.parquet\")\n",
    "data_02 = pd.read_parquet(\"./data/fhv_tripdata_2021-02.parquet\")"
   ]
  },
  {
   "cell_type": "code",
   "execution_count": 6,
   "metadata": {},
   "outputs": [
    {
     "data": {
      "text/html": [
       "<div>\n",
       "<style scoped>\n",
       "    .dataframe tbody tr th:only-of-type {\n",
       "        vertical-align: middle;\n",
       "    }\n",
       "\n",
       "    .dataframe tbody tr th {\n",
       "        vertical-align: top;\n",
       "    }\n",
       "\n",
       "    .dataframe thead th {\n",
       "        text-align: right;\n",
       "    }\n",
       "</style>\n",
       "<table border=\"1\" class=\"dataframe\">\n",
       "  <thead>\n",
       "    <tr style=\"text-align: right;\">\n",
       "      <th></th>\n",
       "      <th>dispatching_base_num</th>\n",
       "      <th>pickup_datetime</th>\n",
       "      <th>dropOff_datetime</th>\n",
       "      <th>PUlocationID</th>\n",
       "      <th>DOlocationID</th>\n",
       "      <th>SR_Flag</th>\n",
       "      <th>Affiliated_base_number</th>\n",
       "    </tr>\n",
       "  </thead>\n",
       "  <tbody>\n",
       "    <tr>\n",
       "      <th>1059837</th>\n",
       "      <td>B00706</td>\n",
       "      <td>2021-01-29 09:02:44</td>\n",
       "      <td>2021-01-29 09:03:09</td>\n",
       "      <td>206.0</td>\n",
       "      <td>245.0</td>\n",
       "      <td>None</td>\n",
       "      <td>B00706</td>\n",
       "    </tr>\n",
       "    <tr>\n",
       "      <th>15205</th>\n",
       "      <td>B03046</td>\n",
       "      <td>2021-01-01 14:41:00</td>\n",
       "      <td>2021-01-01 15:28:00</td>\n",
       "      <td>214.0</td>\n",
       "      <td>221.0</td>\n",
       "      <td>None</td>\n",
       "      <td>B03046</td>\n",
       "    </tr>\n",
       "    <tr>\n",
       "      <th>996179</th>\n",
       "      <td>B01231</td>\n",
       "      <td>2021-01-27 17:11:34</td>\n",
       "      <td>2021-01-27 17:13:51</td>\n",
       "      <td>NaN</td>\n",
       "      <td>17.0</td>\n",
       "      <td>None</td>\n",
       "      <td>B02883</td>\n",
       "    </tr>\n",
       "    <tr>\n",
       "      <th>103516</th>\n",
       "      <td>B01308</td>\n",
       "      <td>2021-01-04 14:29:00</td>\n",
       "      <td>2021-01-04 14:44:00</td>\n",
       "      <td>NaN</td>\n",
       "      <td>NaN</td>\n",
       "      <td>None</td>\n",
       "      <td>B01308</td>\n",
       "    </tr>\n",
       "    <tr>\n",
       "      <th>763348</th>\n",
       "      <td>B02814</td>\n",
       "      <td>2021-01-21 15:58:23</td>\n",
       "      <td>2021-01-21 16:27:23</td>\n",
       "      <td>NaN</td>\n",
       "      <td>188.0</td>\n",
       "      <td>None</td>\n",
       "      <td>B02814</td>\n",
       "    </tr>\n",
       "    <tr>\n",
       "      <th>427338</th>\n",
       "      <td>b00833</td>\n",
       "      <td>2021-01-13 03:27:00</td>\n",
       "      <td>2021-01-13 03:39:00</td>\n",
       "      <td>NaN</td>\n",
       "      <td>NaN</td>\n",
       "      <td>None</td>\n",
       "      <td>b00833</td>\n",
       "    </tr>\n",
       "    <tr>\n",
       "      <th>668180</th>\n",
       "      <td>B01231</td>\n",
       "      <td>2021-01-19 12:52:21</td>\n",
       "      <td>2021-01-19 13:35:01</td>\n",
       "      <td>NaN</td>\n",
       "      <td>217.0</td>\n",
       "      <td>None</td>\n",
       "      <td>B02883</td>\n",
       "    </tr>\n",
       "    <tr>\n",
       "      <th>737100</th>\n",
       "      <td>B01239</td>\n",
       "      <td>2021-01-21 07:25:40</td>\n",
       "      <td>2021-01-21 07:33:39</td>\n",
       "      <td>NaN</td>\n",
       "      <td>254.0</td>\n",
       "      <td>None</td>\n",
       "      <td>B02872</td>\n",
       "    </tr>\n",
       "    <tr>\n",
       "      <th>118209</th>\n",
       "      <td>B03046</td>\n",
       "      <td>2021-01-05 00:19:00</td>\n",
       "      <td>2021-01-05 01:01:00</td>\n",
       "      <td>221.0</td>\n",
       "      <td>221.0</td>\n",
       "      <td>None</td>\n",
       "      <td>B03046</td>\n",
       "    </tr>\n",
       "    <tr>\n",
       "      <th>1115680</th>\n",
       "      <td>B01437</td>\n",
       "      <td>2021-01-30 16:15:57</td>\n",
       "      <td>2021-01-30 16:29:13</td>\n",
       "      <td>NaN</td>\n",
       "      <td>95.0</td>\n",
       "      <td>None</td>\n",
       "      <td>B01437</td>\n",
       "    </tr>\n",
       "  </tbody>\n",
       "</table>\n",
       "</div>"
      ],
      "text/plain": [
       "        dispatching_base_num     pickup_datetime    dropOff_datetime  \\\n",
       "1059837               B00706 2021-01-29 09:02:44 2021-01-29 09:03:09   \n",
       "15205                 B03046 2021-01-01 14:41:00 2021-01-01 15:28:00   \n",
       "996179                B01231 2021-01-27 17:11:34 2021-01-27 17:13:51   \n",
       "103516                B01308 2021-01-04 14:29:00 2021-01-04 14:44:00   \n",
       "763348                B02814 2021-01-21 15:58:23 2021-01-21 16:27:23   \n",
       "427338                b00833 2021-01-13 03:27:00 2021-01-13 03:39:00   \n",
       "668180                B01231 2021-01-19 12:52:21 2021-01-19 13:35:01   \n",
       "737100                B01239 2021-01-21 07:25:40 2021-01-21 07:33:39   \n",
       "118209                B03046 2021-01-05 00:19:00 2021-01-05 01:01:00   \n",
       "1115680               B01437 2021-01-30 16:15:57 2021-01-30 16:29:13   \n",
       "\n",
       "         PUlocationID  DOlocationID SR_Flag Affiliated_base_number  \n",
       "1059837         206.0         245.0    None                 B00706  \n",
       "15205           214.0         221.0    None                 B03046  \n",
       "996179            NaN          17.0    None                 B02883  \n",
       "103516            NaN           NaN    None                 B01308  \n",
       "763348            NaN         188.0    None                 B02814  \n",
       "427338            NaN           NaN    None                 b00833  \n",
       "668180            NaN         217.0    None                 B02883  \n",
       "737100            NaN         254.0    None                 B02872  \n",
       "118209          221.0         221.0    None                 B03046  \n",
       "1115680           NaN          95.0    None                 B01437  "
      ]
     },
     "execution_count": 6,
     "metadata": {},
     "output_type": "execute_result"
    }
   ],
   "source": [
    "data_01.sample(10)"
   ]
  },
  {
   "cell_type": "code",
   "execution_count": 7,
   "metadata": {},
   "outputs": [
    {
     "name": "stdout",
     "output_type": "stream",
     "text": [
      "The number of records in January is: 1154112\n"
     ]
    }
   ],
   "source": [
    "print(f\"The number of records in January is: {data_01.shape[0]}\")"
   ]
  },
  {
   "attachments": {},
   "cell_type": "markdown",
   "metadata": {},
   "source": [
    "## Q2. Computing duration\n",
    "\n",
    "Now let's compute the duration variable. It should contain the duration of a ride in minutes.\n",
    "\n",
    "What's the average trip duration in January?\n",
    "\n",
    "    15.16\n",
    "    19.16\n",
    "    24.16\n",
    "    29.16\n"
   ]
  },
  {
   "cell_type": "code",
   "execution_count": 8,
   "metadata": {},
   "outputs": [
    {
     "name": "stdout",
     "output_type": "stream",
     "text": [
      "The average trip duration in January is: 19.17\n"
     ]
    }
   ],
   "source": [
    "#for this task, we will create separate columng for duration\n",
    "data_01[\"duration\"] =  round((data_01[\"dropOff_datetime\"] - data_01[\"pickup_datetime\"]).dt.total_seconds()/60, 2)\n",
    "print(f\"The average trip duration in January is: {round(data_01['duration'].mean(), 2)}\")"
   ]
  },
  {
   "cell_type": "code",
   "execution_count": 9,
   "metadata": {},
   "outputs": [
    {
     "data": {
      "text/html": [
       "<div>\n",
       "<style scoped>\n",
       "    .dataframe tbody tr th:only-of-type {\n",
       "        vertical-align: middle;\n",
       "    }\n",
       "\n",
       "    .dataframe tbody tr th {\n",
       "        vertical-align: top;\n",
       "    }\n",
       "\n",
       "    .dataframe thead th {\n",
       "        text-align: right;\n",
       "    }\n",
       "</style>\n",
       "<table border=\"1\" class=\"dataframe\">\n",
       "  <thead>\n",
       "    <tr style=\"text-align: right;\">\n",
       "      <th></th>\n",
       "      <th>dispatching_base_num</th>\n",
       "      <th>pickup_datetime</th>\n",
       "      <th>dropOff_datetime</th>\n",
       "      <th>PUlocationID</th>\n",
       "      <th>DOlocationID</th>\n",
       "      <th>SR_Flag</th>\n",
       "      <th>Affiliated_base_number</th>\n",
       "      <th>duration</th>\n",
       "    </tr>\n",
       "  </thead>\n",
       "  <tbody>\n",
       "    <tr>\n",
       "      <th>0</th>\n",
       "      <td>B00009</td>\n",
       "      <td>2021-01-01 00:27:00</td>\n",
       "      <td>2021-01-01 00:44:00</td>\n",
       "      <td>NaN</td>\n",
       "      <td>NaN</td>\n",
       "      <td>None</td>\n",
       "      <td>B00009</td>\n",
       "      <td>17.00</td>\n",
       "    </tr>\n",
       "    <tr>\n",
       "      <th>1</th>\n",
       "      <td>B00009</td>\n",
       "      <td>2021-01-01 00:50:00</td>\n",
       "      <td>2021-01-01 01:07:00</td>\n",
       "      <td>NaN</td>\n",
       "      <td>NaN</td>\n",
       "      <td>None</td>\n",
       "      <td>B00009</td>\n",
       "      <td>17.00</td>\n",
       "    </tr>\n",
       "    <tr>\n",
       "      <th>2</th>\n",
       "      <td>B00013</td>\n",
       "      <td>2021-01-01 00:01:00</td>\n",
       "      <td>2021-01-01 01:51:00</td>\n",
       "      <td>NaN</td>\n",
       "      <td>NaN</td>\n",
       "      <td>None</td>\n",
       "      <td>B00013</td>\n",
       "      <td>110.00</td>\n",
       "    </tr>\n",
       "    <tr>\n",
       "      <th>3</th>\n",
       "      <td>B00037</td>\n",
       "      <td>2021-01-01 00:13:09</td>\n",
       "      <td>2021-01-01 00:21:26</td>\n",
       "      <td>NaN</td>\n",
       "      <td>72.0</td>\n",
       "      <td>None</td>\n",
       "      <td>B00037</td>\n",
       "      <td>8.28</td>\n",
       "    </tr>\n",
       "    <tr>\n",
       "      <th>4</th>\n",
       "      <td>B00037</td>\n",
       "      <td>2021-01-01 00:38:31</td>\n",
       "      <td>2021-01-01 00:53:44</td>\n",
       "      <td>NaN</td>\n",
       "      <td>61.0</td>\n",
       "      <td>None</td>\n",
       "      <td>B00037</td>\n",
       "      <td>15.22</td>\n",
       "    </tr>\n",
       "  </tbody>\n",
       "</table>\n",
       "</div>"
      ],
      "text/plain": [
       "  dispatching_base_num     pickup_datetime    dropOff_datetime  PUlocationID  \\\n",
       "0               B00009 2021-01-01 00:27:00 2021-01-01 00:44:00           NaN   \n",
       "1               B00009 2021-01-01 00:50:00 2021-01-01 01:07:00           NaN   \n",
       "2               B00013 2021-01-01 00:01:00 2021-01-01 01:51:00           NaN   \n",
       "3               B00037 2021-01-01 00:13:09 2021-01-01 00:21:26           NaN   \n",
       "4               B00037 2021-01-01 00:38:31 2021-01-01 00:53:44           NaN   \n",
       "\n",
       "   DOlocationID SR_Flag Affiliated_base_number  duration  \n",
       "0           NaN    None                 B00009     17.00  \n",
       "1           NaN    None                 B00009     17.00  \n",
       "2           NaN    None                 B00013    110.00  \n",
       "3          72.0    None                 B00037      8.28  \n",
       "4          61.0    None                 B00037     15.22  "
      ]
     },
     "execution_count": 9,
     "metadata": {},
     "output_type": "execute_result"
    }
   ],
   "source": [
    "#to see the generated column\n",
    "data_01.head()"
   ]
  },
  {
   "attachments": {},
   "cell_type": "markdown",
   "metadata": {},
   "source": [
    "## Data preparation\n",
    "\n",
    "Check the distribution of the duration variable. There are some outliers.\n",
    "\n",
    "Let's remove them and keep only the records where the duration was between 1 and 60 minutes (inclusive).\n",
    "\n",
    "How many records did you drop?"
   ]
  },
  {
   "cell_type": "code",
   "execution_count": 10,
   "metadata": {},
   "outputs": [
    {
     "data": {
      "text/plain": [
       "{'whiskers': [<matplotlib.lines.Line2D at 0x219e7d0f190>,\n",
       "  <matplotlib.lines.Line2D at 0x219e7d0ff90>],\n",
       " 'caps': [<matplotlib.lines.Line2D at 0x219e7d20c50>,\n",
       "  <matplotlib.lines.Line2D at 0x219e7d21990>],\n",
       " 'boxes': [<matplotlib.lines.Line2D at 0x219e7d0e250>],\n",
       " 'medians': [<matplotlib.lines.Line2D at 0x219e7d22550>],\n",
       " 'fliers': [<matplotlib.lines.Line2D at 0x219e7d22f90>],\n",
       " 'means': []}"
      ]
     },
     "execution_count": 10,
     "metadata": {},
     "output_type": "execute_result"
    },
    {
     "data": {
      "image/png": "[encoded data removed]",
      "text/plain": [
       "<Figure size 640x480 with 1 Axes>"
      ]
     },
     "metadata": {},
     "output_type": "display_data"
    }
   ],
   "source": [
    "plt.boxplot(data_01['duration'])"
   ]
  }
 ],
 "metadata": {
  "kernelspec": {
   "display_name": "Python 3",
   "language": "python",
   "name": "python3"
  },
  "language_info": {
   "codemirror_mode": {
    "name": "ipython",
    "version": 3
   },
   "file_extension": ".py",
   "mimetype": "text/x-python",
   "name": "python",
   "nbconvert_exporter": "python",
   "pygments_lexer": "ipython3",
   "version": "3.11.0"
  },
  "orig_nbformat": 4
 },
 "nbformat": 4,
 "nbformat_minor": 2
}
