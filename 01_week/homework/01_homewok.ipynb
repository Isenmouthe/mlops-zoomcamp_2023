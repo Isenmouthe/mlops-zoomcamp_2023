{
 "cells": [
  {
   "attachments": {},
   "cell_type": "markdown",
   "metadata": {},
   "source": [
    "The goal of this homework is to train a simple model for predicting the duration of a ride - similar to what we did in this module"
   ]
  },
  {
   "attachments": {},
   "cell_type": "markdown",
   "metadata": {},
   "source": [
    "## Q1. Downloading the data\n",
    "\n",
    "We'll use the same NYC taxi dataset, but instead of \"Green Taxi Trip Records\", we'll use \"For-Hire Vehicle Trip Records\".\n",
    "\n",
    "Download the data for January and February 2021.\n",
    "\n",
    "Note that you need \"For-Hire Vehicle Trip Records\", not \"High Volume For-Hire Vehicle Trip Records\".\n",
    "\n",
    "Read the data for January. How many records are there?\n",
    "\n",
    "    1054112\n",
    "    1154112\n",
    "    1254112\n",
    "    1354112\n"
   ]
  },
  {
   "cell_type": "code",
   "execution_count": 19,
   "metadata": {},
   "outputs": [],
   "source": [
    "#!wget -P ./data https://d37ci6vzurychx.cloudfront.net/trip-data/fhv_tripdata_2021-01.parquet\n",
    "#!wget -P ./data https://d37ci6vzurychx.cloudfront.net/trip-data/fhv_tripdata_2021-02.parquet"
   ]
  },
  {
   "cell_type": "code",
   "execution_count": 20,
   "metadata": {},
   "outputs": [],
   "source": [
    "# temp cell of installing neccesary moduls\n",
    "#!pip install matplotlib"
   ]
  },
  {
   "cell_type": "code",
   "execution_count": 21,
   "metadata": {},
   "outputs": [],
   "source": [
    "import pandas as pd\n",
    "import matplotlib.pyplot as plt"
   ]
  },
  {
   "cell_type": "code",
   "execution_count": 22,
   "metadata": {},
   "outputs": [],
   "source": [
    "data_01 = pd.read_parquet(\"./data/fhv_tripdata_2021-01.parquet\")\n",
    "data_02 = pd.read_parquet(\"./data/fhv_tripdata_2021-02.parquet\")"
   ]
  },
  {
   "cell_type": "code",
   "execution_count": 23,
   "metadata": {},
   "outputs": [
    {
     "data": {
      "text/html": [
       "<div>\n",
       "<style scoped>\n",
       "    .dataframe tbody tr th:only-of-type {\n",
       "        vertical-align: middle;\n",
       "    }\n",
       "\n",
       "    .dataframe tbody tr th {\n",
       "        vertical-align: top;\n",
       "    }\n",
       "\n",
       "    .dataframe thead th {\n",
       "        text-align: right;\n",
       "    }\n",
       "</style>\n",
       "<table border=\"1\" class=\"dataframe\">\n",
       "  <thead>\n",
       "    <tr style=\"text-align: right;\">\n",
       "      <th></th>\n",
       "      <th>dispatching_base_num</th>\n",
       "      <th>pickup_datetime</th>\n",
       "      <th>dropOff_datetime</th>\n",
       "      <th>PUlocationID</th>\n",
       "      <th>DOlocationID</th>\n",
       "      <th>SR_Flag</th>\n",
       "      <th>Affiliated_base_number</th>\n",
       "    </tr>\n",
       "  </thead>\n",
       "  <tbody>\n",
       "    <tr>\n",
       "      <th>154359</th>\n",
       "      <td>B01800</td>\n",
       "      <td>2021-01-05 19:00:00</td>\n",
       "      <td>2021-01-05 19:50:00</td>\n",
       "      <td>NaN</td>\n",
       "      <td>NaN</td>\n",
       "      <td>None</td>\n",
       "      <td>B01800</td>\n",
       "    </tr>\n",
       "    <tr>\n",
       "      <th>85326</th>\n",
       "      <td>B01482</td>\n",
       "      <td>2021-01-04 08:55:00</td>\n",
       "      <td>2021-01-04 09:02:00</td>\n",
       "      <td>NaN</td>\n",
       "      <td>NaN</td>\n",
       "      <td>None</td>\n",
       "      <td>B01482</td>\n",
       "    </tr>\n",
       "    <tr>\n",
       "      <th>388514</th>\n",
       "      <td>B03016</td>\n",
       "      <td>2021-01-12 06:29:40</td>\n",
       "      <td>2021-01-12 06:48:55</td>\n",
       "      <td>NaN</td>\n",
       "      <td>182.0</td>\n",
       "      <td>None</td>\n",
       "      <td>B02869</td>\n",
       "    </tr>\n",
       "    <tr>\n",
       "      <th>108823</th>\n",
       "      <td>B01710</td>\n",
       "      <td>2021-01-04 16:54:35</td>\n",
       "      <td>2021-01-04 18:20:16</td>\n",
       "      <td>NaN</td>\n",
       "      <td>NaN</td>\n",
       "      <td>None</td>\n",
       "      <td>B01710</td>\n",
       "    </tr>\n",
       "    <tr>\n",
       "      <th>372629</th>\n",
       "      <td>B01239</td>\n",
       "      <td>2021-01-11 15:02:55</td>\n",
       "      <td>2021-01-11 15:10:49</td>\n",
       "      <td>NaN</td>\n",
       "      <td>81.0</td>\n",
       "      <td>None</td>\n",
       "      <td>B01239</td>\n",
       "    </tr>\n",
       "    <tr>\n",
       "      <th>377871</th>\n",
       "      <td>B02728</td>\n",
       "      <td>2021-01-11 17:51:49</td>\n",
       "      <td>2021-01-11 18:07:20</td>\n",
       "      <td>NaN</td>\n",
       "      <td>250.0</td>\n",
       "      <td>None</td>\n",
       "      <td>B02728</td>\n",
       "    </tr>\n",
       "    <tr>\n",
       "      <th>514230</th>\n",
       "      <td>B01145</td>\n",
       "      <td>2021-01-15 05:21:30</td>\n",
       "      <td>2021-01-15 05:32:00</td>\n",
       "      <td>NaN</td>\n",
       "      <td>248.0</td>\n",
       "      <td>None</td>\n",
       "      <td>B02971</td>\n",
       "    </tr>\n",
       "    <tr>\n",
       "      <th>88837</th>\n",
       "      <td>B01726</td>\n",
       "      <td>2021-01-04 09:35:38</td>\n",
       "      <td>2021-01-04 09:46:17</td>\n",
       "      <td>NaN</td>\n",
       "      <td>241.0</td>\n",
       "      <td>None</td>\n",
       "      <td>B01726</td>\n",
       "    </tr>\n",
       "    <tr>\n",
       "      <th>236270</th>\n",
       "      <td>B01455</td>\n",
       "      <td>2021-01-07 18:17:31</td>\n",
       "      <td>2021-01-07 18:32:36</td>\n",
       "      <td>NaN</td>\n",
       "      <td>171.0</td>\n",
       "      <td>None</td>\n",
       "      <td>B03290</td>\n",
       "    </tr>\n",
       "    <tr>\n",
       "      <th>86019</th>\n",
       "      <td>B02550</td>\n",
       "      <td>2021-01-04 08:43:45</td>\n",
       "      <td>2021-01-04 08:55:23</td>\n",
       "      <td>NaN</td>\n",
       "      <td>56.0</td>\n",
       "      <td>None</td>\n",
       "      <td>B02550</td>\n",
       "    </tr>\n",
       "  </tbody>\n",
       "</table>\n",
       "</div>"
      ],
      "text/plain": [
       "       dispatching_base_num     pickup_datetime    dropOff_datetime  \\\n",
       "154359               B01800 2021-01-05 19:00:00 2021-01-05 19:50:00   \n",
       "85326                B01482 2021-01-04 08:55:00 2021-01-04 09:02:00   \n",
       "388514               B03016 2021-01-12 06:29:40 2021-01-12 06:48:55   \n",
       "108823               B01710 2021-01-04 16:54:35 2021-01-04 18:20:16   \n",
       "372629               B01239 2021-01-11 15:02:55 2021-01-11 15:10:49   \n",
       "377871               B02728 2021-01-11 17:51:49 2021-01-11 18:07:20   \n",
       "514230               B01145 2021-01-15 05:21:30 2021-01-15 05:32:00   \n",
       "88837                B01726 2021-01-04 09:35:38 2021-01-04 09:46:17   \n",
       "236270               B01455 2021-01-07 18:17:31 2021-01-07 18:32:36   \n",
       "86019                B02550 2021-01-04 08:43:45 2021-01-04 08:55:23   \n",
       "\n",
       "        PUlocationID  DOlocationID SR_Flag Affiliated_base_number  \n",
       "154359           NaN           NaN    None                 B01800  \n",
       "85326            NaN           NaN    None                 B01482  \n",
       "388514           NaN         182.0    None                 B02869  \n",
       "108823           NaN           NaN    None                 B01710  \n",
       "372629           NaN          81.0    None                 B01239  \n",
       "377871           NaN         250.0    None                 B02728  \n",
       "514230           NaN         248.0    None                 B02971  \n",
       "88837            NaN         241.0    None                 B01726  \n",
       "236270           NaN         171.0    None                 B03290  \n",
       "86019            NaN          56.0    None                 B02550  "
      ]
     },
     "execution_count": 23,
     "metadata": {},
     "output_type": "execute_result"
    }
   ],
   "source": [
    "data_01.sample(10)"
   ]
  },
  {
   "cell_type": "code",
   "execution_count": 24,
   "metadata": {},
   "outputs": [
    {
     "name": "stdout",
     "output_type": "stream",
     "text": [
      "The number of records in January is: 1154112\n"
     ]
    }
   ],
   "source": [
    "print(f\"The number of records in January is: {data_01.shape[0]}\")"
   ]
  },
  {
   "attachments": {},
   "cell_type": "markdown",
   "metadata": {},
   "source": [
    "## Q2. Computing duration\n",
    "\n",
    "Now let's compute the duration variable. It should contain the duration of a ride in minutes.\n",
    "\n",
    "What's the average trip duration in January?\n",
    "\n",
    "    15.16\n",
    "    19.16\n",
    "    24.16\n",
    "    29.16\n"
   ]
  },
  {
   "cell_type": "code",
   "execution_count": 25,
   "metadata": {},
   "outputs": [
    {
     "name": "stdout",
     "output_type": "stream",
     "text": [
      "The average trip duration in January is: 19.17\n"
     ]
    }
   ],
   "source": [
    "#for this task, we will create separate columng for duration\n",
    "data_01[\"duration\"] =  round((data_01[\"dropOff_datetime\"] - data_01[\"pickup_datetime\"]).dt.total_seconds()/60, 2)\n",
    "print(f\"The average trip duration in January is: {round(data_01['duration'].mean(), 2)}\")"
   ]
  },
  {
   "cell_type": "code",
   "execution_count": 26,
   "metadata": {},
   "outputs": [
    {
     "data": {
      "text/html": [
       "<div>\n",
       "<style scoped>\n",
       "    .dataframe tbody tr th:only-of-type {\n",
       "        vertical-align: middle;\n",
       "    }\n",
       "\n",
       "    .dataframe tbody tr th {\n",
       "        vertical-align: top;\n",
       "    }\n",
       "\n",
       "    .dataframe thead th {\n",
       "        text-align: right;\n",
       "    }\n",
       "</style>\n",
       "<table border=\"1\" class=\"dataframe\">\n",
       "  <thead>\n",
       "    <tr style=\"text-align: right;\">\n",
       "      <th></th>\n",
       "      <th>dispatching_base_num</th>\n",
       "      <th>pickup_datetime</th>\n",
       "      <th>dropOff_datetime</th>\n",
       "      <th>PUlocationID</th>\n",
       "      <th>DOlocationID</th>\n",
       "      <th>SR_Flag</th>\n",
       "      <th>Affiliated_base_number</th>\n",
       "      <th>duration</th>\n",
       "    </tr>\n",
       "  </thead>\n",
       "  <tbody>\n",
       "    <tr>\n",
       "      <th>0</th>\n",
       "      <td>B00009</td>\n",
       "      <td>2021-01-01 00:27:00</td>\n",
       "      <td>2021-01-01 00:44:00</td>\n",
       "      <td>NaN</td>\n",
       "      <td>NaN</td>\n",
       "      <td>None</td>\n",
       "      <td>B00009</td>\n",
       "      <td>17.00</td>\n",
       "    </tr>\n",
       "    <tr>\n",
       "      <th>1</th>\n",
       "      <td>B00009</td>\n",
       "      <td>2021-01-01 00:50:00</td>\n",
       "      <td>2021-01-01 01:07:00</td>\n",
       "      <td>NaN</td>\n",
       "      <td>NaN</td>\n",
       "      <td>None</td>\n",
       "      <td>B00009</td>\n",
       "      <td>17.00</td>\n",
       "    </tr>\n",
       "    <tr>\n",
       "      <th>2</th>\n",
       "      <td>B00013</td>\n",
       "      <td>2021-01-01 00:01:00</td>\n",
       "      <td>2021-01-01 01:51:00</td>\n",
       "      <td>NaN</td>\n",
       "      <td>NaN</td>\n",
       "      <td>None</td>\n",
       "      <td>B00013</td>\n",
       "      <td>110.00</td>\n",
       "    </tr>\n",
       "    <tr>\n",
       "      <th>3</th>\n",
       "      <td>B00037</td>\n",
       "      <td>2021-01-01 00:13:09</td>\n",
       "      <td>2021-01-01 00:21:26</td>\n",
       "      <td>NaN</td>\n",
       "      <td>72.0</td>\n",
       "      <td>None</td>\n",
       "      <td>B00037</td>\n",
       "      <td>8.28</td>\n",
       "    </tr>\n",
       "    <tr>\n",
       "      <th>4</th>\n",
       "      <td>B00037</td>\n",
       "      <td>2021-01-01 00:38:31</td>\n",
       "      <td>2021-01-01 00:53:44</td>\n",
       "      <td>NaN</td>\n",
       "      <td>61.0</td>\n",
       "      <td>None</td>\n",
       "      <td>B00037</td>\n",
       "      <td>15.22</td>\n",
       "    </tr>\n",
       "  </tbody>\n",
       "</table>\n",
       "</div>"
      ],
      "text/plain": [
       "  dispatching_base_num     pickup_datetime    dropOff_datetime  PUlocationID  \\\n",
       "0               B00009 2021-01-01 00:27:00 2021-01-01 00:44:00           NaN   \n",
       "1               B00009 2021-01-01 00:50:00 2021-01-01 01:07:00           NaN   \n",
       "2               B00013 2021-01-01 00:01:00 2021-01-01 01:51:00           NaN   \n",
       "3               B00037 2021-01-01 00:13:09 2021-01-01 00:21:26           NaN   \n",
       "4               B00037 2021-01-01 00:38:31 2021-01-01 00:53:44           NaN   \n",
       "\n",
       "   DOlocationID SR_Flag Affiliated_base_number  duration  \n",
       "0           NaN    None                 B00009     17.00  \n",
       "1           NaN    None                 B00009     17.00  \n",
       "2           NaN    None                 B00013    110.00  \n",
       "3          72.0    None                 B00037      8.28  \n",
       "4          61.0    None                 B00037     15.22  "
      ]
     },
     "execution_count": 26,
     "metadata": {},
     "output_type": "execute_result"
    }
   ],
   "source": [
    "#to see the generated column\n",
    "data_01.head()"
   ]
  },
  {
   "attachments": {},
   "cell_type": "markdown",
   "metadata": {},
   "source": [
    "## Data preparation\n",
    "\n",
    "Check the distribution of the duration variable. There are some outliers.\n",
    "\n",
    "Let's remove them and keep only the records where the duration was between 1 and 60 minutes (inclusive).\n",
    "\n",
    "How many records did you drop?"
   ]
  },
  {
   "cell_type": "code",
   "execution_count": 27,
   "metadata": {},
   "outputs": [
    {
     "data": {
      "text/plain": [
       "{'whiskers': [<matplotlib.lines.Line2D at 0x219ef891a90>,\n",
       "  <matplotlib.lines.Line2D at 0x219ef8ed8d0>],\n",
       " 'caps': [<matplotlib.lines.Line2D at 0x219ef8ee3d0>,\n",
       "  <matplotlib.lines.Line2D at 0x219ef8eef50>],\n",
       " 'boxes': [<matplotlib.lines.Line2D at 0x219e7013710>],\n",
       " 'medians': [<matplotlib.lines.Line2D at 0x219ef8efa10>],\n",
       " 'fliers': [<matplotlib.lines.Line2D at 0x219ef8d9090>],\n",
       " 'means': []}"
      ]
     },
     "execution_count": 27,
     "metadata": {},
     "output_type": "execute_result"
    },
    {
     "data": {
      "image/png": "[encoded data removed]",
      "text/plain": [
       "<Figure size 640x480 with 1 Axes>"
      ]
     },
     "metadata": {},
     "output_type": "display_data"
    }
   ],
   "source": [
    "plt.boxplot(data_01['duration'])"
   ]
  },
  {
   "cell_type": "code",
   "execution_count": 28,
   "metadata": {},
   "outputs": [],
   "source": [
    "data_01_no_outliers = data_01[(data_01['duration'] >= 1) & (data_01['duration'] <= 60)].copy()"
   ]
  },
  {
   "cell_type": "code",
   "execution_count": 29,
   "metadata": {},
   "outputs": [
    {
     "data": {
      "text/plain": [
       "{'whiskers': [<matplotlib.lines.Line2D at 0x219ef94a950>,\n",
       "  <matplotlib.lines.Line2D at 0x219ef94b3d0>],\n",
       " 'caps': [<matplotlib.lines.Line2D at 0x219ef94be90>,\n",
       "  <matplotlib.lines.Line2D at 0x219ef960950>],\n",
       " 'boxes': [<matplotlib.lines.Line2D at 0x219ef949c10>],\n",
       " 'medians': [<matplotlib.lines.Line2D at 0x219ef961550>],\n",
       " 'fliers': [<matplotlib.lines.Line2D at 0x219ef8cff10>],\n",
       " 'means': []}"
      ]
     },
     "execution_count": 29,
     "metadata": {},
     "output_type": "execute_result"
    },
    {
     "data": {
      "image/png": "[encoded data removed]",
      "text/plain": [
       "<Figure size 640x480 with 1 Axes>"
      ]
     },
     "metadata": {},
     "output_type": "display_data"
    }
   ],
   "source": [
    "plt.boxplot(data_01_no_outliers['duration'])"
   ]
  },
  {
   "cell_type": "code",
   "execution_count": 30,
   "metadata": {},
   "outputs": [
    {
     "name": "stdout",
     "output_type": "stream",
     "text": [
      "The number of dropped records: 44286\n"
     ]
    }
   ],
   "source": [
    "print(f\"The number of dropped records: {data_01['duration'].shape[0] - data_01_no_outliers['duration'].shape[0]}\")"
   ]
  },
  {
   "attachments": {},
   "cell_type": "markdown",
   "metadata": {},
   "source": [
    "## Q3. Missing values\n",
    "\n",
    "The features we'll use for our model are the pickup and dropoff location IDs.\n",
    "\n",
    "But they have a lot of missing values there. Let's replace them with \"-1\".\n",
    "\n",
    "What's the fractions of missing values for the pickup location ID? I.e. fraction of \"-1\"s after you filled the NAs.\n",
    "\n",
    "    53%\n",
    "    63%\n",
    "    73%\n",
    "    83%\n"
   ]
  },
  {
   "cell_type": "code",
   "execution_count": 31,
   "metadata": {},
   "outputs": [],
   "source": [
    "data_01_no_outliers['PUlocationID'].fillna(-1, inplace=True)"
   ]
  },
  {
   "cell_type": "code",
   "execution_count": 35,
   "metadata": {},
   "outputs": [
    {
     "name": "stdout",
     "output_type": "stream",
     "text": [
      "The fractions of missing values for the pickup location ID: 84.0\n"
     ]
    }
   ],
   "source": [
    "percent_missing = data_01_no_outliers['PUlocationID'].isin([-1]).sum() * 100 / len(data_01_no_outliers['PUlocationID'])\n",
    "print(f\"The fractions of missing values for the pickup location ID: {round(percent_missing, 0)}\")"
   ]
  },
  {
   "cell_type": "code",
   "execution_count": null,
   "metadata": {},
   "outputs": [],
   "source": [
    "data_01_no_outliers['DOlocationID'].fillna(-1, inplace=True)\n"
   ]
  }
 ],
 "metadata": {
  "kernelspec": {
   "display_name": "Python 3",
   "language": "python",
   "name": "python3"
  },
  "language_info": {
   "codemirror_mode": {
    "name": "ipython",
    "version": 3
   },
   "file_extension": ".py",
   "mimetype": "text/x-python",
   "name": "python",
   "nbconvert_exporter": "python",
   "pygments_lexer": "ipython3",
   "version": "3.11.0"
  },
  "orig_nbformat": 4
 },
 "nbformat": 4,
 "nbformat_minor": 2
}
